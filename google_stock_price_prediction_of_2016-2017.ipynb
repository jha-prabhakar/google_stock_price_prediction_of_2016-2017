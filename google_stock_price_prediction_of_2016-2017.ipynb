{
 "cells": [
  {
   "cell_type": "code",
   "execution_count": 2,
   "id": "afe30938",
   "metadata": {},
   "outputs": [],
   "source": [
    "# Recurrent Neural Network\n",
    "\n",
    "# Part 1 - Data Preprocessing\n",
    "\n",
    "# Importing the libraries\n",
    "import numpy as np\n",
    "import matplotlib.pyplot as plt\n",
    "import pandas as pd"
   ]
  },
  {
   "cell_type": "code",
   "execution_count": 4,
   "id": "e640ea0a",
   "metadata": {},
   "outputs": [],
   "source": [
    "# Importing the training set\n",
    "dataset_train = pd.read_csv('Google_Stock_Price_Train.csv')\n",
    "training_set = dataset_train.iloc[:, 1:2].values"
   ]
  },
  {
   "cell_type": "code",
   "execution_count": 6,
   "id": "ae21ef25",
   "metadata": {},
   "outputs": [],
   "source": [
    "\n",
    "# Feature Scaling\n",
    "from sklearn.preprocessing import MinMaxScaler\n",
    "sc = MinMaxScaler(feature_range = (0, 1))\n",
    "training_set_scaled = sc.fit_transform(training_set)\n"
   ]
  },
  {
   "cell_type": "code",
   "execution_count": 8,
   "id": "2072fbeb",
   "metadata": {},
   "outputs": [],
   "source": [
    "# Creating a data structure with 60 timesteps and 1 output\n",
    "X_train = []\n",
    "y_train = []\n",
    "for i in range(60, 1258):\n",
    "    X_train.append(training_set_scaled[i-60:i, 0])\n",
    "    y_train.append(training_set_scaled[i, 0])\n",
    "X_train, y_train = np.array(X_train), np.array(y_train)\n"
   ]
  },
  {
   "cell_type": "code",
   "execution_count": 10,
   "id": "d9e8ff3c",
   "metadata": {},
   "outputs": [],
   "source": [
    "# Reshaping\n",
    "X_train = np.reshape(X_train, (X_train.shape[0], X_train.shape[1], 1))"
   ]
  },
  {
   "cell_type": "code",
   "execution_count": 12,
   "id": "f6dcc5c5",
   "metadata": {},
   "outputs": [],
   "source": [
    "# Part 2 - Building the RNN\n",
    "\n",
    "# Importing the Keras libraries and packages\n",
    "from keras.models import Sequential\n",
    "from keras.layers import Dense\n",
    "from keras.layers import LSTM\n",
    "from keras.layers import Dropout"
   ]
  },
  {
   "cell_type": "code",
   "execution_count": 38,
   "id": "2b7fb526",
   "metadata": {},
   "outputs": [],
   "source": [
    "# Initialising the RNN\n",
    "regressor = Sequential()\n"
   ]
  },
  {
   "cell_type": "code",
   "execution_count": 35,
   "id": "64365765",
   "metadata": {},
   "outputs": [],
   "source": [
    "# Adding the first LSTM layer and some Dropout regularisation\n",
    "regressor.add(LSTM(units = 50, return_sequences = True, input_shape = (X_train.shape[1], 1)))\n",
    "regressor.add(Dropout(0.2))\n",
    "\n",
    "# Adding a second LSTM layer and some Dropout regularisation\n",
    "regressor.add(LSTM(units = 50, return_sequences = True))\n",
    "regressor.add(Dropout(0.2))"
   ]
  },
  {
   "cell_type": "code",
   "execution_count": 39,
   "id": "1c3fc200",
   "metadata": {},
   "outputs": [],
   "source": [
    "# Adding a third LSTM layer and some Dropout regularisation\n",
    "regressor.add(LSTM(units = 50, return_sequences = True))\n",
    "regressor.add(Dropout(0.2))\n",
    "\n",
    "# Adding a fourth LSTM layer and some Dropout regularisation\n",
    "regressor.add(LSTM(units = 50))\n",
    "regressor.add(Dropout(0.2))"
   ]
  },
  {
   "cell_type": "code",
   "execution_count": 41,
   "id": "3f8dff98",
   "metadata": {},
   "outputs": [],
   "source": [
    "# Adding the output layer\n",
    "regressor.add(Dense(units = 1))\n"
   ]
  },
  {
   "cell_type": "code",
   "execution_count": 43,
   "id": "0b2bf55b",
   "metadata": {},
   "outputs": [],
   "source": [
    "# Compiling the RNN\n",
    "regressor.compile(optimizer = 'adam', loss = 'mean_squared_error')"
   ]
  },
  {
   "cell_type": "code",
   "execution_count": 45,
   "id": "ec0da1bc",
   "metadata": {},
   "outputs": [
    {
     "name": "stdout",
     "output_type": "stream",
     "text": [
      "Epoch 1/100\n",
      "38/38 [==============================] - 2s 52ms/step - loss: 9.6332e-04\n",
      "Epoch 2/100\n",
      "38/38 [==============================] - 2s 50ms/step - loss: 0.0010\n",
      "Epoch 3/100\n",
      "38/38 [==============================] - 2s 48ms/step - loss: 0.0010\n",
      "Epoch 4/100\n",
      "38/38 [==============================] - 2s 46ms/step - loss: 9.8214e-04\n",
      "Epoch 5/100\n",
      "38/38 [==============================] - 2s 46ms/step - loss: 0.0010\n",
      "Epoch 6/100\n",
      "38/38 [==============================] - 2s 48ms/step - loss: 9.2585e-04\n",
      "Epoch 7/100\n",
      "38/38 [==============================] - 2s 49ms/step - loss: 0.0010\n",
      "Epoch 8/100\n",
      "38/38 [==============================] - 2s 60ms/step - loss: 8.9250e-04\n",
      "Epoch 9/100\n",
      "38/38 [==============================] - 2s 49ms/step - loss: 0.0010\n",
      "Epoch 10/100\n",
      "38/38 [==============================] - 2s 61ms/step - loss: 9.8347e-04\n",
      "Epoch 11/100\n",
      "38/38 [==============================] - 2s 50ms/step - loss: 9.6594e-04\n",
      "Epoch 12/100\n",
      "38/38 [==============================] - 2s 46ms/step - loss: 0.0010\n",
      "Epoch 13/100\n",
      "38/38 [==============================] - 2s 61ms/step - loss: 9.4340e-04\n",
      "Epoch 14/100\n",
      "38/38 [==============================] - 2s 61ms/step - loss: 9.3056e-04\n",
      "Epoch 15/100\n",
      "38/38 [==============================] - 2s 57ms/step - loss: 9.2435e-04\n",
      "Epoch 16/100\n",
      "38/38 [==============================] - 2s 58ms/step - loss: 8.3573e-04\n",
      "Epoch 17/100\n",
      "38/38 [==============================] - 2s 57ms/step - loss: 9.8885e-04\n",
      "Epoch 18/100\n",
      "38/38 [==============================] - 2s 57ms/step - loss: 9.4661e-04\n",
      "Epoch 19/100\n",
      "38/38 [==============================] - 2s 49ms/step - loss: 0.0010\n",
      "Epoch 20/100\n",
      "38/38 [==============================] - 2s 47ms/step - loss: 8.6424e-04\n",
      "Epoch 21/100\n",
      "38/38 [==============================] - 2s 51ms/step - loss: 0.0011\n",
      "Epoch 22/100\n",
      "38/38 [==============================] - 2s 48ms/step - loss: 8.3725e-04\n",
      "Epoch 23/100\n",
      "38/38 [==============================] - 2s 60ms/step - loss: 9.1417e-04\n",
      "Epoch 24/100\n",
      "38/38 [==============================] - 2s 54ms/step - loss: 9.2793e-04\n",
      "Epoch 25/100\n",
      "38/38 [==============================] - 3s 74ms/step - loss: 8.9358e-04\n",
      "Epoch 26/100\n",
      "38/38 [==============================] - 3s 66ms/step - loss: 8.8108e-04\n",
      "Epoch 27/100\n",
      "38/38 [==============================] - 2s 51ms/step - loss: 8.8629e-04\n",
      "Epoch 28/100\n",
      "38/38 [==============================] - 2s 48ms/step - loss: 8.9478e-04\n",
      "Epoch 29/100\n",
      "38/38 [==============================] - 2s 60ms/step - loss: 9.2101e-04\n",
      "Epoch 30/100\n",
      "38/38 [==============================] - 2s 58ms/step - loss: 9.9873e-04\n",
      "Epoch 31/100\n",
      "38/38 [==============================] - 2s 57ms/step - loss: 9.3566e-04\n",
      "Epoch 32/100\n",
      "38/38 [==============================] - 2s 53ms/step - loss: 9.3172e-04\n",
      "Epoch 33/100\n",
      "38/38 [==============================] - 2s 48ms/step - loss: 9.7130e-04\n",
      "Epoch 34/100\n",
      "38/38 [==============================] - 2s 62ms/step - loss: 8.2139e-04\n",
      "Epoch 35/100\n",
      "38/38 [==============================] - 2s 58ms/step - loss: 8.6502e-04\n",
      "Epoch 36/100\n",
      "38/38 [==============================] - 2s 48ms/step - loss: 8.7677e-04\n",
      "Epoch 37/100\n",
      "38/38 [==============================] - 2s 49ms/step - loss: 9.5827e-04\n",
      "Epoch 38/100\n",
      "38/38 [==============================] - 2s 54ms/step - loss: 9.2901e-04\n",
      "Epoch 39/100\n",
      "38/38 [==============================] - 2s 61ms/step - loss: 8.9582e-04\n",
      "Epoch 40/100\n",
      "38/38 [==============================] - 2s 61ms/step - loss: 8.4814e-04\n",
      "Epoch 41/100\n",
      "38/38 [==============================] - 2s 49ms/step - loss: 8.5969e-04\n",
      "Epoch 42/100\n",
      "38/38 [==============================] - 2s 49ms/step - loss: 9.1025e-04\n",
      "Epoch 43/100\n",
      "38/38 [==============================] - 2s 57ms/step - loss: 9.0714e-04\n",
      "Epoch 44/100\n",
      "38/38 [==============================] - 2s 62ms/step - loss: 8.2630e-04\n",
      "Epoch 45/100\n",
      "38/38 [==============================] - 2s 55ms/step - loss: 8.6390e-04\n",
      "Epoch 46/100\n",
      "38/38 [==============================] - 2s 49ms/step - loss: 8.2467e-04\n",
      "Epoch 47/100\n",
      "38/38 [==============================] - 2s 52ms/step - loss: 9.0858e-04\n",
      "Epoch 48/100\n",
      "38/38 [==============================] - 2s 58ms/step - loss: 9.1329e-04\n",
      "Epoch 49/100\n",
      "38/38 [==============================] - 3s 72ms/step - loss: 9.3912e-04\n",
      "Epoch 50/100\n",
      "38/38 [==============================] - 2s 49ms/step - loss: 8.8088e-04\n",
      "Epoch 51/100\n",
      "38/38 [==============================] - 2s 48ms/step - loss: 0.0011\n",
      "Epoch 52/100\n",
      "38/38 [==============================] - 2s 58ms/step - loss: 8.3772e-04\n",
      "Epoch 53/100\n",
      "38/38 [==============================] - 3s 80ms/step - loss: 9.0660e-04\n",
      "Epoch 54/100\n",
      "38/38 [==============================] - 2s 59ms/step - loss: 9.2008e-04\n",
      "Epoch 55/100\n",
      "38/38 [==============================] - 3s 67ms/step - loss: 8.9696e-04\n",
      "Epoch 56/100\n",
      "38/38 [==============================] - 2s 60ms/step - loss: 8.8274e-04\n",
      "Epoch 57/100\n",
      "38/38 [==============================] - 2s 53ms/step - loss: 9.0610e-04\n",
      "Epoch 58/100\n",
      "38/38 [==============================] - 2s 49ms/step - loss: 8.6071e-04\n",
      "Epoch 59/100\n",
      "38/38 [==============================] - 2s 49ms/step - loss: 8.0442e-04\n",
      "Epoch 60/100\n",
      "38/38 [==============================] - 2s 48ms/step - loss: 7.7763e-04\n",
      "Epoch 61/100\n",
      "38/38 [==============================] - 2s 50ms/step - loss: 7.7358e-04\n",
      "Epoch 62/100\n",
      "38/38 [==============================] - 2s 50ms/step - loss: 9.2667e-04\n",
      "Epoch 63/100\n",
      "38/38 [==============================] - 2s 50ms/step - loss: 8.6411e-04\n",
      "Epoch 64/100\n",
      "38/38 [==============================] - 2s 47ms/step - loss: 8.7269e-04\n",
      "Epoch 65/100\n",
      "38/38 [==============================] - 2s 54ms/step - loss: 8.4013e-04\n",
      "Epoch 66/100\n",
      "38/38 [==============================] - 2s 51ms/step - loss: 8.4150e-04\n",
      "Epoch 67/100\n",
      "38/38 [==============================] - 2s 59ms/step - loss: 8.6902e-04\n",
      "Epoch 68/100\n",
      "38/38 [==============================] - 2s 56ms/step - loss: 9.3934e-04\n",
      "Epoch 69/100\n",
      "38/38 [==============================] - 3s 67ms/step - loss: 9.6125e-04\n",
      "Epoch 70/100\n",
      "38/38 [==============================] - 2s 60ms/step - loss: 8.6787e-04\n",
      "Epoch 71/100\n",
      "38/38 [==============================] - 2s 51ms/step - loss: 8.2713e-04\n",
      "Epoch 72/100\n",
      "38/38 [==============================] - 2s 48ms/step - loss: 8.7806e-04\n",
      "Epoch 73/100\n",
      "38/38 [==============================] - 2s 54ms/step - loss: 8.7251e-04\n",
      "Epoch 74/100\n",
      "38/38 [==============================] - 2s 50ms/step - loss: 8.1307e-04\n",
      "Epoch 75/100\n",
      "38/38 [==============================] - 2s 53ms/step - loss: 8.0840e-04\n",
      "Epoch 76/100\n",
      "38/38 [==============================] - 2s 56ms/step - loss: 8.3829e-04\n",
      "Epoch 77/100\n",
      "38/38 [==============================] - 2s 55ms/step - loss: 8.1647e-04\n",
      "Epoch 78/100\n",
      "38/38 [==============================] - 2s 56ms/step - loss: 9.2513e-04\n",
      "Epoch 79/100\n",
      "38/38 [==============================] - 2s 53ms/step - loss: 9.3102e-04\n",
      "Epoch 80/100\n",
      "38/38 [==============================] - 2s 52ms/step - loss: 9.1742e-04\n",
      "Epoch 81/100\n",
      "38/38 [==============================] - 2s 55ms/step - loss: 8.3730e-04\n",
      "Epoch 82/100\n",
      "38/38 [==============================] - 2s 54ms/step - loss: 9.5152e-04\n",
      "Epoch 83/100\n",
      "38/38 [==============================] - 2s 58ms/step - loss: 8.3558e-04\n",
      "Epoch 84/100\n",
      "38/38 [==============================] - 2s 56ms/step - loss: 8.2243e-04\n",
      "Epoch 85/100\n",
      "38/38 [==============================] - 2s 60ms/step - loss: 8.0188e-04\n",
      "Epoch 86/100\n",
      "38/38 [==============================] - 2s 54ms/step - loss: 8.2641e-04\n",
      "Epoch 87/100\n",
      "38/38 [==============================] - 2s 53ms/step - loss: 8.0508e-04\n",
      "Epoch 88/100\n",
      "38/38 [==============================] - 2s 54ms/step - loss: 8.6370e-04\n",
      "Epoch 89/100\n",
      "38/38 [==============================] - 2s 56ms/step - loss: 9.5945e-04\n",
      "Epoch 90/100\n",
      "38/38 [==============================] - 2s 55ms/step - loss: 8.4909e-04\n",
      "Epoch 91/100\n",
      "38/38 [==============================] - 2s 57ms/step - loss: 9.0160e-04\n",
      "Epoch 92/100\n",
      "38/38 [==============================] - 2s 55ms/step - loss: 7.8150e-04\n",
      "Epoch 93/100\n",
      "38/38 [==============================] - 2s 55ms/step - loss: 8.4673e-04\n",
      "Epoch 94/100\n",
      "38/38 [==============================] - 2s 57ms/step - loss: 8.1359e-04\n",
      "Epoch 95/100\n",
      "38/38 [==============================] - 2s 57ms/step - loss: 8.5268e-04\n",
      "Epoch 96/100\n",
      "38/38 [==============================] - 2s 50ms/step - loss: 8.5722e-04\n",
      "Epoch 97/100\n",
      "38/38 [==============================] - 2s 60ms/step - loss: 8.2971e-04\n",
      "Epoch 98/100\n",
      "38/38 [==============================] - 4s 109ms/step - loss: 7.2560e-04\n",
      "Epoch 99/100\n",
      "38/38 [==============================] - 3s 75ms/step - loss: 7.5034e-04\n",
      "Epoch 100/100\n",
      "38/38 [==============================] - 3s 69ms/step - loss: 9.1749e-04\n"
     ]
    },
    {
     "data": {
      "text/plain": [
       "<keras.src.callbacks.History at 0x221b4fc0a00>"
      ]
     },
     "execution_count": 45,
     "metadata": {},
     "output_type": "execute_result"
    }
   ],
   "source": [
    "\n",
    "# Fitting the RNN to the Training set\n",
    "regressor.fit(X_train, y_train, epochs = 100, batch_size = 32)"
   ]
  },
  {
   "cell_type": "code",
   "execution_count": 47,
   "id": "2a524ac8",
   "metadata": {},
   "outputs": [],
   "source": [
    "# Part 3 - Making the predictions and visualising the results\n",
    "\n",
    "# Getting the real stock price of 2017\n",
    "dataset_test = pd.read_csv('Google_Stock_Price_Test.csv')\n",
    "real_stock_price = dataset_test.iloc[:, 1:2].values"
   ]
  },
  {
   "cell_type": "code",
   "execution_count": 49,
   "id": "a3156e92",
   "metadata": {},
   "outputs": [
    {
     "name": "stdout",
     "output_type": "stream",
     "text": [
      "1/1 [==============================] - 0s 92ms/step\n"
     ]
    }
   ],
   "source": [
    "# Getting the predicted stock price of 2017\n",
    "dataset_total = pd.concat((dataset_train['Open'], dataset_test['Open']), axis = 0)\n",
    "inputs = dataset_total[len(dataset_total) - len(dataset_test) - 60:].values\n",
    "inputs = inputs.reshape(-1,1)\n",
    "inputs = sc.transform(inputs)\n",
    "X_test = []\n",
    "for i in range(60, 80):\n",
    "    X_test.append(inputs[i-60:i, 0])\n",
    "X_test = np.array(X_test)\n",
    "X_test = np.reshape(X_test, (X_test.shape[0], X_test.shape[1], 1))\n",
    "predicted_stock_price = regressor.predict(X_test)\n",
    "predicted_stock_price = sc.inverse_transform(predicted_stock_price)"
   ]
  },
  {
   "cell_type": "code",
   "execution_count": 50,
   "id": "72a45367",
   "metadata": {},
   "outputs": [
    {
     "data": {
      "image/png": "[encoded data removed]",
      "text/plain": [
       "<Figure size 432x288 with 1 Axes>"
      ]
     },
     "metadata": {
      "needs_background": "light"
     },
     "output_type": "display_data"
    }
   ],
   "source": [
    "# Visualising the results\n",
    "plt.plot(real_stock_price, color = 'red', label = 'Real Google Stock Price')\n",
    "plt.plot(predicted_stock_price, color = 'blue', label = 'Predicted Google Stock Price')\n",
    "plt.title('Google Stock Price Prediction')\n",
    "plt.xlabel('Time')\n",
    "plt.ylabel('Google Stock Price')\n",
    "plt.legend()\n",
    "plt.show()"
   ]
  }
 ],
 "metadata": {
  "kernelspec": {
   "display_name": "Python 3 (ipykernel)",
   "language": "python",
   "name": "python3"
  },
  "language_info": {
   "codemirror_mode": {
    "name": "ipython",
    "version": 3
   },
   "file_extension": ".py",
   "mimetype": "text/x-python",
   "name": "python",
   "nbconvert_exporter": "python",
   "pygments_lexer": "ipython3",
   "version": "3.9.12"
  }
 },
 "nbformat": 4,
 "nbformat_minor": 5
}
